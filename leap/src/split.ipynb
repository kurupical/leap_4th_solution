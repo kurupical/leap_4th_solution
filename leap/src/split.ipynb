{
 "cells": [
  {
   "cell_type": "code",
   "execution_count": 1,
   "metadata": {},
   "outputs": [],
   "source": [
    "import pandas as pd\n",
    "import tqdm"
   ]
  },
  {
   "cell_type": "code",
   "execution_count": 2,
   "metadata": {},
   "outputs": [],
   "source": [
    "import polars as pl"
   ]
  },
  {
   "cell_type": "code",
   "execution_count": 3,
   "metadata": {},
   "outputs": [],
   "source": [
    "df = pl.read_csv(\"../../input/leap-atmospheric-physics-ai-climsim/train.csv\")"
   ]
  },
  {
   "cell_type": "code",
   "execution_count": 4,
   "metadata": {},
   "outputs": [],
   "source": [
    "cols = df.columns"
   ]
  },
  {
   "cell_type": "code",
   "execution_count": 5,
   "metadata": {},
   "outputs": [],
   "source": [
    "import sys\n",
    "sys.path.append(\"../\")\n",
    "from experiments.const import FEATURE_COLUMNS"
   ]
  },
  {
   "cell_type": "code",
   "execution_count": 6,
   "metadata": {},
   "outputs": [],
   "source": [
    "import numpy as np"
   ]
  },
  {
   "cell_type": "code",
   "execution_count": 10,
   "metadata": {},
   "outputs": [],
   "source": [
    "from sklearn.model_selection import KFold\n",
    "kfold = KFold(n_splits=19, shuffle=True, random_state=42)"
   ]
  },
  {
   "cell_type": "code",
   "execution_count": 14,
   "metadata": {},
   "outputs": [],
   "source": [
    "df[-641280:].write_parquet(f\"../input/leap-atmospheric-physics-ai-climsim/valid.parquet\")"
   ]
  },
  {
   "cell_type": "code",
   "execution_count": 16,
   "metadata": {},
   "outputs": [
    {
     "name": "stdout",
     "output_type": "stream",
     "text": [
      "497449\n",
      "497449\n",
      "497449\n",
      "497449\n",
      "497449\n",
      "497449\n",
      "497449\n",
      "497449\n",
      "497448\n",
      "497448\n",
      "497448\n",
      "497448\n",
      "497448\n",
      "497448\n",
      "497448\n",
      "497448\n",
      "497448\n",
      "497448\n",
      "497448\n"
     ]
    }
   ],
   "source": [
    "for i, (train_idx, val_idx) in enumerate(kfold.split(df[:len(df) - 640000])):\n",
    "    print(len(val_idx))\n",
    "    df[val_idx].write_parquet(f\"../input/leap-atmospheric-physics-ai-climsim/random/train_{i}.parquet\")\n",
    "    break"
   ]
  },
  {
   "cell_type": "code",
   "execution_count": 14,
   "metadata": {},
   "outputs": [],
   "source": [
    "df_test = pl.read_csv(\"../input/leap-atmospheric-physics-ai-climsim/test.csv\")\n",
    "cols = df_test.columns\n",
    "df_test.write_parquet(\"../input/leap-atmospheric-physics-ai-climsim/test.parquet\")"
   ]
  }
 ],
 "metadata": {
  "kernelspec": {
   "display_name": ".venv",
   "language": "python",
   "name": "python3"
  },
  "language_info": {
   "codemirror_mode": {
    "name": "ipython",
    "version": 3
   },
   "file_extension": ".py",
   "mimetype": "text/x-python",
   "name": "python",
   "nbconvert_exporter": "python",
   "pygments_lexer": "ipython3",
   "version": "3.12.0"
  }
 },
 "nbformat": 4,
 "nbformat_minor": 2
}
